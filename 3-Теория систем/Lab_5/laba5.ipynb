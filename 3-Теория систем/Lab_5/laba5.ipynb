{
  "nbformat": 4,
  "nbformat_minor": 0,
  "metadata": {
    "colab": {
      "provenance": []
    },
    "kernelspec": {
      "name": "python3",
      "display_name": "Python 3"
    },
    "language_info": {
      "name": "python"
    }
  },
  "cells": [
    {
      "cell_type": "code",
      "execution_count": null,
      "metadata": {
        "id": "y-RiC4d63EU5"
      },
      "outputs": [],
      "source": [
        "import pylab as pp\n",
        "import numpy as np\n",
        "from scipy import integrate, interpolate\n",
        "from scipy import optimize\n",
        "from scipy.integrate import odeint"
      ]
    },
    {
      "cell_type": "markdown",
      "source": [
        "## Вариант 10\n",
        "\\begin{align}\n",
        "y''(t)+2y'(t)+3y(t)=2u'(t)+4u(t)\n",
        "\\end{align}\n",
        "\\\n",
        "\\begin{align}\n",
        "        A = \\begin{pmatrix}\n",
        "        0 & 1 \\\\\n",
        "        -3 & -2\n",
        "        \\end{pmatrix}\n",
        "\\end{align}\n",
        "\n",
        "\\begin{align}\n",
        "        B = \\begin{pmatrix}\n",
        "        0 \\\\ 1\n",
        "        \\end{pmatrix}\n",
        "\\end{align}\n",
        "\n",
        "\\begin{align}\n",
        "        C = \\begin{pmatrix}\n",
        "        4 & 2\n",
        "        \\end{pmatrix}\n",
        "\\end{align}\n",
        "\\\n",
        "\\begin{align}\n",
        "        \\begin{cases}\n",
        "        x_1'=x2\\\\\n",
        "        x_2'=-3x_1-2x_2+u\\\\\n",
        "        y=4x_1+2x_2\n",
        "\\end{cases}\n",
        "    \\end{align}"
      ],
      "metadata": {
        "id": "m3dnjLPR5PR4"
      }
    },
    {
      "cell_type": "code",
      "source": [
        "# Сохраняем значения параметров и функцию в поля класса\n",
        "# Исходными данными, передаваемыми при создании экземпляра класса оценки параметров являются:\n",
        "# Функция f, реализующая вычисление ДУ\n",
        "# Массив экспериментальных данных (x_data, y_data)\n",
        "class parameter_estimator():\n",
        "    def __init__(self, x_data, y_data, f, n_observed=None):\n",
        "        self._x_data = x_data\n",
        "        self._y_data = y_data\n",
        "        self._f = f\n",
        "        self._c = None\n",
        "        self.n_observed = y_data.shape[1]\n",
        "\n",
        "    def my_ls_func(self, x, teta):\n",
        "        \"\"\"\n",
        "        Определение функции, возвращающей непосредственно решение системы ДУ\n",
        "        в процессе оценки параметров\n",
        "        x заданные (временные) точки, где известно решение\n",
        "        (экспериментальные данные)\n",
        "        teta -- массив с текущим значением оцениваемых параметров.\n",
        "        Первые self._y0_len элементов -- начальные условия,\n",
        "        остальные -- параметры ДУ\n",
        "        \"\"\"\n",
        "        # Для передачи функуии используем ламбда-выражение с подставленными\n",
        "        # параметрами\n",
        "        # Вычислим значения дифференциального уравления в точках \"x\"\n",
        "        r = integrate.odeint(lambda y, t: self._f(y, t, teta[self._y0_len:]),\n",
        "                             teta[0:self._y0_len], x)\n",
        "        # Возвращаем только наблюдаемые переменные\n",
        "        return r[:, 0:self.n_observed]\n",
        "\n",
        "    def f_resid(self, p):\n",
        "        \"\"\"\n",
        "        Функция для передачи в optimize.leastsq\n",
        "        Функция вычисляет вектор ошибок между решением системы ДУ\n",
        "        с текущими значениями параметров и экспериментальными значениями.\n",
        "        Функция получает вектор параметров системы (включая начальные условия ДУ).\n",
        "        При дальнейших вычислениях значения, возвращаемые этой функцией,\n",
        "        будут возведены в квадрат и просуммированы\n",
        "        \"\"\"\n",
        "        delta = self._y_data -self.my_ls_func(self._x_data, p)\n",
        "        return delta.flatten()  # Преобразуем в одномерный массив\n",
        "\n",
        "    def estimate(self, y0, guess):\n",
        "        \"\"\"\n",
        "        Произвести оценку параметров дифференциального уравнения с заданными\n",
        "        начальными значениями параметров:\n",
        "            y0 -- начальные условия ДУ\n",
        "            guess -- начальные значения параметров системы ДУ\n",
        "        \"\"\"\n",
        "\n",
        "        # Сохраняем число начальных условий\n",
        "        self._y0_len = len(y0)\n",
        "\n",
        "        # Создаем вектор оцениваемых параметров,\n",
        "        # включающий в себя начальные условия\n",
        "        self._est_values = np.concatenate((y0, guess))\n",
        "\n",
        "        # Решаем оптимизационную задачу - решение в переменной c\n",
        "        (c, kvg) = optimize.leastsq(self.f_resid, self._est_values)\n",
        "        self._c = c\n",
        "        # В возвращаемом значении разделяем начальные условия и параметры\n",
        "        return c[self._y0_len:], c[0:self._y0_len]\n",
        "\n",
        "    def calcODE(self, args, y0, x0=0, xEnd=10, nt=101):\n",
        "        \"\"\"\n",
        "        Служебная функция для решения ДУ\n",
        "        \"\"\"\n",
        "        t = np.linspace(x0, xEnd, nt)\n",
        "        sol = odeint(self._f, y0, t, args)\n",
        "        return sol, t\n",
        "\n",
        "    def plot_result(self):\n",
        "        \"\"\"\n",
        "        Строим графическое предстваление результутов оценки параметров\n",
        "        \"\"\"\n",
        "        if self._c is None:\n",
        "            print(\"Parameter is not estimated.\")\n",
        "            return\n",
        "\n",
        "        sol, t = self.calcODE((self._c[self._y0_len:],),\n",
        "                              self._c[0:self._y0_len],\n",
        "                              min(self._x_data),\n",
        "                              max(self._x_data))\n",
        "        # Строим экспериментальные данные, как красные точки,\n",
        "        # а результаты моделирования, как синюю линию\n",
        "        pp.plot(self._x_data, self._y_data, '.r', t, sol, '-b')\n",
        "        pp.xlabel('xlabel', {\"fontsize\": 16})\n",
        "        pp.ylabel(\"ylabel\", {\"fontsize\": 16})\n",
        "        pp.legend(('data', 'fit'), loc=0)\n",
        "        pp.show()"
      ],
      "metadata": {
        "id": "zGxeTz-P3E2b"
      },
      "execution_count": null,
      "outputs": []
    },
    {
      "cell_type": "code",
      "source": [
        "def system_equations(y, t, k):\n",
        "    x1, x2 = y\n",
        "    a = k[0]\n",
        "    b = k[1]\n",
        "    # u(t) = 1 => u'(t) = 0\n",
        "    dydt = [x2,-a*x1 - b*x2 + 1]\n",
        "    return dydt\n",
        "\n",
        "def calcSystem(args, y0, dy0, ts=10, nt=101):\n",
        "  y0 = [y0, dy0]\n",
        "  t = np.linspace(0, ts, nt)\n",
        "  sol = odeint(system_equations, y0, t, args)\n",
        "  return sol, t\n",
        "\n",
        "\n",
        "# Зададим истинные значения параметров системы\n",
        "a = 3\n",
        "b = 2\n",
        "\n",
        "args = ([a, b], )\n",
        "y0 = 0\n",
        "dy0 = 0\n",
        "print(\"Real parameter: b = {}, c = {}\".format(a, b))\n",
        "print(\"Real initial condition: {} {}\".format(y0, dy0))\n",
        "sol, t = calcSystem(args, y0, dy0)"
      ],
      "metadata": {
        "colab": {
          "base_uri": "https://localhost:8080/"
        },
        "id": "y2DD9qhL3Wud",
        "outputId": "9388f6e8-f415-4111-d90c-363541725913"
      },
      "execution_count": null,
      "outputs": [
        {
          "output_type": "stream",
          "name": "stdout",
          "text": [
            "Real parameter: b = 3, c = 2\n",
            "Real initial condition: 0 0\n"
          ]
        }
      ]
    },
    {
      "cell_type": "code",
      "source": [],
      "metadata": {
        "id": "RNEIlIHXS6md"
      },
      "execution_count": null,
      "outputs": []
    },
    {
      "cell_type": "code",
      "source": [
        "guess = [5, 1]  # Начальные значения для параметров системы\n",
        "y0 = [0, 0]  # Стартовые начальные значения для системы ДУ\n",
        "\n",
        "estimator = parameter_estimator(t, sol, system_equations)\n",
        "est_par = estimator.estimate(y0, guess)\n",
        "# Построим графики результатов оценки параметров\n",
        "estimator.plot_result()\n",
        "print(\"Estimated parameter: a={}, b={}\".format(est_par[0][0], est_par[0][1]))\n",
        "print(\"Estimated initial condition: {}\".format(est_par[1]))"
      ],
      "metadata": {
        "colab": {
          "base_uri": "https://localhost:8080/",
          "height": 491
        },
        "id": "COLxrSt84YPW",
        "outputId": "abb8402d-ba0c-4465-fc7b-e713bab16c66"
      },
      "execution_count": null,
      "outputs": [
        {
          "output_type": "display_data",
          "data": {
            "text/plain": [
              "<Figure size 640x480 with 1 Axes>"
            ],
            "image/png": "[encoded data removed]"
          },
          "metadata": {}
        },
        {
          "output_type": "stream",
          "name": "stdout",
          "text": [
            "Estimated parameter: a=2.999999983750253, b=1.999999829927313\n",
            "Estimated initial condition: [6.66271701e-08 3.65908249e-08]\n"
          ]
        }
      ]
    },
    {
      "cell_type": "code",
      "source": [],
      "metadata": {
        "id": "zQ1d57884w-b"
      },
      "execution_count": null,
      "outputs": []
    }
  ]
}